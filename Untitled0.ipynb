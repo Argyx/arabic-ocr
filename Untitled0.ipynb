{
 "cells": [
  {
   "cell_type": "code",
   "execution_count": 1,
   "metadata": {
    "id": "i4qGQdcgAfpQ"
   },
   "outputs": [],
   "source": [
    "import zipfile\n",
    "import os\n",
    "from PIL import Image\n",
    "import numpy as np\n",
    "from sklearn.model_selection import train_test_split\n",
    "\n",
    "def extract_zip(zip_path, extract_path):\n",
    "    \"\"\"\n",
    "    Extract a zip file to the specified path.\n",
    "    \"\"\"\n",
    "    with zipfile.ZipFile(zip_path, 'r') as zip_ref:\n",
    "        zip_ref.extractall(extract_path)\n",
    "\n",
    "def load_images_and_labels(folder_path):\n",
    "    \"\"\"\n",
    "    Load images and their labels from the given folder.\n",
    "    \"\"\"\n",
    "    images = []\n",
    "    labels = []\n",
    "\n",
    "   # List all files in the folder\n",
    "    for filename in os.listdir(folder_path):\n",
    "        if filename.endswith(\".png\"):\n",
    "            # Load the image\n",
    "            img_path = os.path.join(folder_path, filename)\n",
    "            img = Image.open(img_path)\n",
    "            img = img.convert('L')  # Convert to grayscale\n",
    "            images.append(np.array(img))\n",
    "\n",
    "            # Extract label from filename and adjust to zero-based index\n",
    "            label = int(filename.split('_')[-1].split('.')[0]) - 1\n",
    "            labels.append(label)\n",
    "\n",
    "    return np.array(images), np.array(labels)\n",
    "\n",
    "\n",
    "# Set the path to your zip file and the extraction path\n",
    "zip_path = 'archive.zip'\n",
    "extract_path = 'extracted/'\n",
    "\n",
    "# Extract the dataset\n",
    "extract_zip(zip_path, extract_path)\n",
    "\n",
    "# Set the paths to the training and testing data\n",
    "train_folder_path = os.path.join(extract_path, 'Train Images 13440x32x32', 'train')\n",
    "test_folder_path = os.path.join(extract_path, 'Test Images 3360x32x32', 'test')\n",
    "\n",
    "# Load the training and test data\n",
    "train_images, train_labels = load_images_and_labels(train_folder_path)\n",
    "test_images, test_labels = load_images_and_labels(test_folder_path)\n",
    "\n",
    "# Split the training data into training and validation sets (e.g., 80% training, 20% validation)\n",
    "train_images, val_images, train_labels, val_labels = train_test_split(\n",
    "    train_images, train_labels, test_size=0.2, random_state=42\n",
    ")\n",
    "\n",
    "# Now, train_images, train_labels, val_images, val_labels, test_images, and test_labels are ready for use"
   ]
  },
  {
   "cell_type": "code",
   "execution_count": 2,
   "metadata": {
    "colab": {
     "base_uri": "https://localhost:8080/",
     "height": 428
    },
    "id": "g_Qy9KjCDqpg",
    "outputId": "e3cb74fc-5500-443f-9f20-def416893b21"
   },
   "outputs": [
    {
     "data": {
      "image/png": "[encoded data removed]",
      "text/plain": [
       "<Figure size 432x288 with 1 Axes>"
      ]
     },
     "metadata": {
      "needs_background": "light"
     },
     "output_type": "display_data"
    }
   ],
   "source": [
    "\n",
    "import matplotlib.pyplot as plt\n",
    "import random\n",
    "\n",
    "\n",
    "\n",
    "arabic_letters = {\n",
    "    0: 'Alef (أ)',\n",
    "    1: 'Baa (ب)',\n",
    "    2: 'Taa (ت)',\n",
    "    3: 'Thaa (ث)',\n",
    "    4: 'Jeem (ج)',\n",
    "    5: 'Haa (ح)',\n",
    "    6: 'Khaa (خ)',\n",
    "    7: 'Dal (د)',\n",
    "    8: 'Thal (ذ)',\n",
    "    9: 'Raa (ر)',\n",
    "    10: 'Zay (ز)',\n",
    "    11: 'Seen (س)',\n",
    "    12: 'Sheen (ش)',\n",
    "    13: 'Sad (ص)',\n",
    "    14: 'Dad (ض)',\n",
    "    15: 'Tah (ط)',\n",
    "    16: 'Zah (ظ)',\n",
    "    17: 'Ain (ع)',\n",
    "    18: 'Ghain (غ)',\n",
    "    19: 'Faa (ف)',\n",
    "    20: 'Qaf (ق)',\n",
    "    21: 'Kaf (ك)',\n",
    "    22: 'Lam (ل)',\n",
    "    23: 'Meem (م)',\n",
    "    24: 'Noon (ن)',\n",
    "    25: 'Haa (هـ)',\n",
    "    26: 'Waw (و)',\n",
    "    27: 'Yaa (ي)'\n",
    "}\n",
    "\n",
    "\n",
    "\n",
    "# Code to display a sample image with its Arabic letter name\n",
    "random_index = random.randint(0, len(train_images) - 1)\n",
    "sample_image = train_images[random_index]\n",
    "sample_label = train_labels[random_index]\n",
    "letter_name = arabic_letters.get(sample_label, \"Unknown\")\n",
    "\n",
    "import matplotlib.pyplot as plt\n",
    "plt.imshow(sample_image, cmap='gray')\n",
    "plt.title(f'Label: {letter_name}')\n",
    "plt.axis('off')\n",
    "plt.show()"
   ]
  },
  {
   "cell_type": "code",
   "execution_count": 3,
   "metadata": {
    "colab": {
     "base_uri": "https://localhost:8080/",
     "height": 1000
    },
    "id": "b8xVb8lEEUNh",
    "outputId": "a2716e27-abec-4a27-9458-836edbe2c846"
   },
   "outputs": [
    {
     "data": {
      "image/png": "[encoded data removed]",
      "text/plain": [
       "<Figure size 720x720 with 16 Axes>"
      ]
     },
     "metadata": {
      "needs_background": "light"
     },
     "output_type": "display_data"
    }
   ],
   "source": [
    "# Number of rows and columns in the grid\n",
    "n_rows, n_cols = 4, 4\n",
    "\n",
    "# Create a figure with subplots in a grid\n",
    "plt.figure(figsize=(10, 10))\n",
    "\n",
    "for i in range(1, n_rows * n_cols + 1):\n",
    "    # Select a random index\n",
    "    random_index = random.randint(0, len(train_images) - 1)\n",
    "    image = train_images[random_index]\n",
    "    label = train_labels[random_index]\n",
    "    letter_name = arabic_letters.get(label, \"Unknown\")\n",
    "\n",
    "    # Add a subplot with no axis\n",
    "    plt.subplot(n_rows, n_cols, i)\n",
    "    plt.imshow(image, cmap='gray')\n",
    "    plt.title(letter_name)\n",
    "    plt.axis('off')\n",
    "\n",
    "# Show the plot\n",
    "plt.tight_layout()\n",
    "plt.show()"
   ]
  },
  {
   "cell_type": "code",
   "execution_count": 4,
   "metadata": {
    "colab": {
     "base_uri": "https://localhost:8080/"
    },
    "id": "dNX5wKzoFCrr",
    "outputId": "786310d8-78b3-4896-abe7-351532c17e10"
   },
   "outputs": [
    {
     "name": "stdout",
     "output_type": "stream",
     "text": [
      "Mean: tensor([0.1011]), Std: tensor([0.2793])\n"
     ]
    }
   ],
   "source": [
    "import torch\n",
    "from torchvision import transforms\n",
    "from torch.utils.data import DataLoader, Dataset\n",
    "import numpy as np\n",
    "from torch.utils.data import random_split\n",
    "\n",
    "\n",
    "class ArabicHandwrittenDataset(Dataset):\n",
    "    def __init__(self, images, labels, transform=None):\n",
    "        self.images = images\n",
    "        # Subtract 1 from each label to shift from [1, 28] to [0, 27]\n",
    "        self.labels = labels\n",
    "        self.transform = transform\n",
    "\n",
    "    def __len__(self):\n",
    "        return len(self.images)\n",
    "\n",
    "    def __getitem__(self, idx):\n",
    "        image = self.images[idx]\n",
    "        label = self.labels[idx]\n",
    "        if self.transform:\n",
    "            image = self.transform(image)\n",
    "        return image, label\n",
    "\n",
    "# Function to calculate mean and std\n",
    "def calculate_mean_std(loader):\n",
    "    channels_sum, channels_squared_sum, num_batches = 0, 0, 0\n",
    "\n",
    "    for data, _ in loader:\n",
    "        channels_sum += torch.mean(data, dim=[0, 2, 3])\n",
    "        channels_squared_sum += torch.mean(data ** 2, dim=[0, 2, 3])\n",
    "        num_batches += 1\n",
    "\n",
    "    mean = channels_sum / num_batches\n",
    "    std = (channels_squared_sum / num_batches - mean ** 2) ** 0.5\n",
    "\n",
    "    return mean, std\n",
    "\n",
    "# Define basic transformations without normalization\n",
    "basic_transform = transforms.Compose([\n",
    "    transforms.ToPILImage(),\n",
    "    transforms.Resize((224, 224)),  # Resize images for Vision Transformer\n",
    "    transforms.ToTensor()\n",
    "])\n",
    "\n",
    "# Create a basic dataset and DataLoader for mean and std calculation\n",
    "basic_train_dataset = ArabicHandwrittenDataset(train_images, train_labels, transform=basic_transform)\n",
    "basic_train_loader = DataLoader(basic_train_dataset, batch_size=64, shuffle=True)\n",
    "\n",
    "# Calculate mean and std\n",
    "mean, std = calculate_mean_std(basic_train_loader)\n",
    "print(f'Mean: {mean}, Std: {std}')\n",
    "\n",
    "# Now define the transform with normalization\n",
    "transform = transforms.Compose([\n",
    "    transforms.ToPILImage(),\n",
    "    transforms.Resize((224, 224)),  # Resize images for Vision Transformer\n",
    "    transforms.ToTensor(),\n",
    "    transforms.Normalize(mean=mean, std=std)  # Normalize the images\n",
    "])\n",
    "\n",
    "# Define the sizes of the splits. For example, 80% training and 20% validation\n",
    "train_size = int(0.8 * len(basic_train_dataset))\n",
    "val_size = len(basic_train_dataset) - train_size\n",
    "\n",
    "# Randomly split the dataset into training and validation datasets\n",
    "train_dataset, val_dataset = random_split(basic_train_dataset, [train_size, val_size])\n",
    "\n",
    "# Create DataLoaders for the training and validation datasets\n",
    "train_loader = DataLoader(train_dataset, batch_size=32, shuffle=True)\n",
    "val_loader = DataLoader(val_dataset, batch_size=32, shuffle=False)\n",
    "\n"
   ]
  },
  {
   "cell_type": "code",
   "execution_count": 5,
   "metadata": {
    "colab": {
     "base_uri": "https://localhost:8080/",
     "height": 570
    },
    "id": "uZuEsgXRFvCI",
    "outputId": "d9c799eb-8ef0-42f9-cbfe-67208dfb4bdc"
   },
   "outputs": [
    {
     "data": {
      "image/png": "[encoded data removed]",
      "text/plain": [
       "<Figure size 864x432 with 8 Axes>"
      ]
     },
     "metadata": {
      "needs_background": "light"
     },
     "output_type": "display_data"
    }
   ],
   "source": [
    "import matplotlib.pyplot as plt\n",
    "\n",
    "# Function to convert a PyTorch tensor to a numpy array\n",
    "def to_numpy(tensor):\n",
    "    if tensor.dim() == 3:\n",
    "        return tensor.numpy().transpose((1, 2, 0))\n",
    "    elif tensor.dim() == 2:\n",
    "        return tensor.numpy()\n",
    "    else:\n",
    "        raise ValueError(\"Tensor has unsupported number of dimensions\")\n",
    "\n",
    "\n",
    "# Select a few random images from the training set\n",
    "num_samples = 4\n",
    "# The rest of the code is the same as before\n",
    "fig, axes = plt.subplots(2, num_samples, figsize=(12, 6))\n",
    "for i in range(num_samples):\n",
    "    random_index = random.randint(0, len(train_images) - 1)\n",
    "    original_image = train_images[random_index]\n",
    "    label = train_labels[random_index]\n",
    "    letter_name = arabic_letters.get(label, \"Unknown\")\n",
    "\n",
    "    # Apply transformation\n",
    "    augmented_image = transform(original_image).squeeze()\n",
    "\n",
    "    # Plot original and augmented images\n",
    "    axes[0, i].imshow(original_image, cmap='gray')\n",
    "    axes[0, i].set_title(f'Original: {letter_name}')\n",
    "    axes[0, i].axis('off')\n",
    "\n",
    "    axes[1, i].imshow(to_numpy(augmented_image), cmap='gray')\n",
    "    axes[1, i].set_title(f'Augmented: {letter_name}')\n",
    "    axes[1, i].axis('off')\n",
    "\n",
    "plt.tight_layout()\n",
    "plt.show()\n"
   ]
  },
  {
   "cell_type": "code",
   "execution_count": 6,
   "metadata": {
    "id": "cyMDZ7ZkF0py"
   },
   "outputs": [
    {
     "name": "stdout",
     "output_type": "stream",
     "text": [
      "Requirement already satisfied: timm in /Users/aris/miniconda3/envs/torch-gpu/lib/python3.8/site-packages (0.9.12)\n",
      "Requirement already satisfied: pyyaml in /Users/aris/miniconda3/envs/torch-gpu/lib/python3.8/site-packages (from timm) (6.0.1)\n",
      "Requirement already satisfied: torch>=1.7 in /Users/aris/miniconda3/envs/torch-gpu/lib/python3.8/site-packages (from timm) (2.0.0)\n",
      "Requirement already satisfied: huggingface-hub in /Users/aris/miniconda3/envs/torch-gpu/lib/python3.8/site-packages (from timm) (0.19.4)\n",
      "Requirement already satisfied: safetensors in /Users/aris/miniconda3/envs/torch-gpu/lib/python3.8/site-packages (from timm) (0.4.1)\n",
      "Requirement already satisfied: torchvision in /Users/aris/miniconda3/envs/torch-gpu/lib/python3.8/site-packages (from timm) (0.15.0)\n",
      "Requirement already satisfied: filelock in /Users/aris/miniconda3/envs/torch-gpu/lib/python3.8/site-packages (from torch>=1.7->timm) (3.9.0)\n",
      "Requirement already satisfied: typing-extensions in /Users/aris/miniconda3/envs/torch-gpu/lib/python3.8/site-packages (from torch>=1.7->timm) (4.5.0)\n",
      "Requirement already satisfied: sympy in /Users/aris/miniconda3/envs/torch-gpu/lib/python3.8/site-packages (from torch>=1.7->timm) (1.11.1)\n",
      "Requirement already satisfied: networkx in /Users/aris/miniconda3/envs/torch-gpu/lib/python3.8/site-packages (from torch>=1.7->timm) (2.8.4)\n",
      "Requirement already satisfied: jinja2 in /Users/aris/miniconda3/envs/torch-gpu/lib/python3.8/site-packages (from torch>=1.7->timm) (3.1.2)\n",
      "Requirement already satisfied: tqdm>=4.42.1 in /Users/aris/miniconda3/envs/torch-gpu/lib/python3.8/site-packages (from huggingface-hub->timm) (4.65.0)\n",
      "Requirement already satisfied: packaging>=20.9 in /Users/aris/miniconda3/envs/torch-gpu/lib/python3.8/site-packages (from huggingface-hub->timm) (23.1)\n",
      "Requirement already satisfied: fsspec>=2023.5.0 in /Users/aris/miniconda3/envs/torch-gpu/lib/python3.8/site-packages (from huggingface-hub->timm) (2023.12.1)\n",
      "Requirement already satisfied: requests in /Users/aris/miniconda3/envs/torch-gpu/lib/python3.8/site-packages (from huggingface-hub->timm) (2.29.0)\n",
      "Requirement already satisfied: numpy in /Users/aris/miniconda3/envs/torch-gpu/lib/python3.8/site-packages (from torchvision->timm) (1.24.3)\n",
      "Requirement already satisfied: pillow!=8.3.*,>=5.3.0 in /Users/aris/miniconda3/envs/torch-gpu/lib/python3.8/site-packages (from torchvision->timm) (9.4.0)\n",
      "Requirement already satisfied: MarkupSafe>=2.0 in /Users/aris/miniconda3/envs/torch-gpu/lib/python3.8/site-packages (from jinja2->torch>=1.7->timm) (2.1.1)\n",
      "Requirement already satisfied: urllib3<1.27,>=1.21.1 in /Users/aris/miniconda3/envs/torch-gpu/lib/python3.8/site-packages (from requests->huggingface-hub->timm) (1.26.15)\n",
      "Requirement already satisfied: charset-normalizer<4,>=2 in /Users/aris/miniconda3/envs/torch-gpu/lib/python3.8/site-packages (from requests->huggingface-hub->timm) (2.0.4)\n",
      "Requirement already satisfied: idna<4,>=2.5 in /Users/aris/miniconda3/envs/torch-gpu/lib/python3.8/site-packages (from requests->huggingface-hub->timm) (3.4)\n",
      "Requirement already satisfied: certifi>=2017.4.17 in /Users/aris/miniconda3/envs/torch-gpu/lib/python3.8/site-packages (from requests->huggingface-hub->timm) (2022.12.7)\n",
      "Requirement already satisfied: mpmath>=0.19 in /Users/aris/miniconda3/envs/torch-gpu/lib/python3.8/site-packages (from sympy->torch>=1.7->timm) (1.2.1)\n"
     ]
    }
   ],
   "source": [
    "!pip install timm\n",
    "import torch\n",
    "from torch import nn\n",
    "import timm\n",
    "import os\n",
    "\n",
    "class HybridModel(nn.Module):\n",
    "    def __init__(self, num_classes, cnn_model, transformer_model):\n",
    "        super(HybridModel, self).__init__()\n",
    "        self.cnn = cnn_model\n",
    "        self.channel_transform = nn.Conv2d(16, 3, kernel_size=1)  # 1x1 Convolution to adjust channels\n",
    "        self.adaptive_pool = nn.AdaptiveAvgPool2d((224, 224))  # Adaptive pooling to adjust the image size\n",
    "        self.transformer = transformer_model\n",
    "        transformer_output_features = 1000  # Adjust this based on your transformer's output features\n",
    "\n",
    "        self.classifier = nn.Linear(transformer_output_features, num_classes)\n",
    "\n",
    "\n",
    "\n",
    "    def forward(self, x):\n",
    "        # Extract features using CNN\n",
    "        cnn_features = self.cnn(x)\n",
    "\n",
    "        # Adjust channels\n",
    "        cnn_features = self.channel_transform(cnn_features)\n",
    "\n",
    "        # Resize using adaptive pooling to match ViT input size\n",
    "        cnn_features = self.adaptive_pool(cnn_features)\n",
    "\n",
    "        # Pass through Transformer\n",
    "        transformer_output = self.transformer(cnn_features)\n",
    "\n",
    "        # Classifier\n",
    "        out = self.classifier(transformer_output)\n",
    "        return out\n",
    "\n",
    "# Define your CNN and Transformer model\n",
    "cnn_model = nn.Sequential(\n",
    "    nn.Conv2d(1, 16, kernel_size=3, stride=1, padding=1),\n",
    "    nn.ReLU(),\n",
    "    nn.MaxPool2d(kernel_size=2),\n",
    "    # Add more layers as needed\n",
    ")\n",
    "\n",
    "# For the transformer, use a pre-trained model and adjust as needed\n",
    "transformer_model = timm.create_model('vit_small_patch16_224', pretrained=True)\n",
    "\n",
    "# Number of classes\n",
    "num_classes = 28\n",
    "\n",
    "# Create the hybrid model\n",
    "model = HybridModel(num_classes, cnn_model, transformer_model)\n",
    "\n",
    "# Move model to GPU if available\n",
    "device = torch.device(\"mps\")\n",
    "model.to(device)\n",
    "\n",
    "# Define loss function and optimizer\n",
    "criterion = nn.CrossEntropyLoss()\n",
    "optimizer = torch.optim.Adam(model.parameters(), lr=0.001)"
   ]
  },
  {
   "cell_type": "code",
   "execution_count": 7,
   "metadata": {
    "colab": {
     "base_uri": "https://localhost:8080/"
    },
    "id": "EogEfDOXJeg9",
    "outputId": "fede0313-e5de-4ffe-aff2-9f8c796e3b00"
   },
   "outputs": [
    {
     "name": "stdout",
     "output_type": "stream",
     "text": [
      "Forward pass successful.\n"
     ]
    }
   ],
   "source": [
    "# Get a single batch from the DataLoader\n",
    "inputs, labels = next(iter(train_loader))\n",
    "\n",
    "# Move the data to the correct device\n",
    "inputs, labels = inputs.to(device), labels.to(device)\n",
    "\n",
    "# Forward pass through the model\n",
    "try:\n",
    "    outputs = model(inputs)\n",
    "    print(\"Forward pass successful.\")\n",
    "except Exception as e:\n",
    "    print(f\"Error during forward pass: {e}\")"
   ]
  },
  {
   "cell_type": "code",
   "execution_count": null,
   "metadata": {
    "colab": {
     "base_uri": "https://localhost:8080/"
    },
    "id": "66BcEKUmH0AY",
    "outputId": "246da4c3-4db3-4e06-9f2b-5558384c9d2c"
   },
   "outputs": [
    {
     "name": "stdout",
     "output_type": "stream",
     "text": [
      "Epoch 1/40\n"
     ]
    },
    {
     "name": "stderr",
     "output_type": "stream",
     "text": [
      "\r",
      "Training:   0%|          | 0/269 [00:00<?, ?it/s]"
     ]
    }
   ],
   "source": [
    "from tqdm import tqdm\n",
    "\n",
    "def train_one_epoch(model, dataloader, loss_fn, optimizer, device):\n",
    "    model.train()\n",
    "    running_loss = 0.0\n",
    "    correct_predictions = 0\n",
    "\n",
    "    for inputs, labels in tqdm(dataloader, desc=\"Training\", leave=False):\n",
    "        inputs, labels = inputs.to(device), labels.to(device)\n",
    "\n",
    "        # Forward pass\n",
    "        outputs = model(inputs)\n",
    "        loss = loss_fn(outputs, labels)\n",
    "\n",
    "        # Backward and optimize\n",
    "        optimizer.zero_grad()\n",
    "        loss.backward()\n",
    "        optimizer.step()\n",
    "\n",
    "        running_loss += loss.item()\n",
    "        _, predicted = torch.max(outputs.data, 1)\n",
    "        correct_predictions += (predicted == labels).sum().item()\n",
    "\n",
    "    epoch_loss = running_loss / len(dataloader.dataset)\n",
    "    epoch_acc = correct_predictions / len(dataloader.dataset)\n",
    "    return epoch_loss, epoch_acc\n",
    "\n",
    "def validate(model, dataloader, loss_fn, device):\n",
    "    model.eval()\n",
    "    running_loss = 0.0\n",
    "    correct_predictions = 0\n",
    "\n",
    "    with torch.no_grad():\n",
    "        for inputs, labels in tqdm(dataloader, desc=\"Validation\", leave=False):\n",
    "            inputs, labels = inputs.to(device), labels.to(device)\n",
    "\n",
    "            outputs = model(inputs)\n",
    "            loss = loss_fn(outputs, labels)\n",
    "\n",
    "            running_loss += loss.item()\n",
    "            _, predicted = torch.max(outputs.data, 1)\n",
    "            correct_predictions += (predicted == labels).sum().item()\n",
    "\n",
    "    epoch_loss = running_loss / len(dataloader.dataset)\n",
    "    epoch_acc = correct_predictions / len(dataloader.dataset)\n",
    "    return epoch_loss, epoch_acc\n",
    "\n",
    "# Example usage\n",
    "num_epochs = 40  # Number of epochs\n",
    "for epoch in range(num_epochs):\n",
    "    print(f\"Epoch {epoch+1}/{num_epochs}\")\n",
    "    train_loss, train_acc = train_one_epoch(model, train_loader, criterion, optimizer, device)\n",
    "    val_loss, val_acc = validate(model, val_loader, criterion, device)\n",
    "\n",
    "    print(f\"Training Loss: {train_loss:.4f}, Training Accuracy: {train_acc:.4f}\")\n",
    "    print(f\"Validation Loss: {val_loss:.4f}, Validation Accuracy: {val_acc:.4f}\")"
   ]
  },
  {
   "cell_type": "code",
   "execution_count": null,
   "metadata": {},
   "outputs": [],
   "source": []
  },
  {
   "cell_type": "code",
   "execution_count": null,
   "metadata": {},
   "outputs": [],
   "source": []
  },
  {
   "cell_type": "code",
   "execution_count": null,
   "metadata": {},
   "outputs": [],
   "source": []
  }
 ],
 "metadata": {
  "accelerator": "GPU",
  "colab": {
   "gpuType": "T4",
   "provenance": []
  },
  "kernelspec": {
   "display_name": "Python 3",
   "language": "python",
   "name": "python3"
  },
  "language_info": {
   "codemirror_mode": {
    "name": "ipython",
    "version": 3
   },
   "file_extension": ".py",
   "mimetype": "text/x-python",
   "name": "python",
   "nbconvert_exporter": "python",
   "pygments_lexer": "ipython3",
   "version": "3.8.16"
  }
 },
 "nbformat": 4,
 "nbformat_minor": 1
}
